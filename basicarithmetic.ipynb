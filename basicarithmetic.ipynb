from owlready2 import *
import tkinter as tk
from tkinter import messagebox
import random


class BasicArithmeticITS:
    def __init__(self, root):
        self.root = root
        self.root.title("Basic Arithmetic ITS")
        self.root.configure(bg='black')

        # Load the ontology
        self.onto = get_ontology("ontology.owl").load()

        self.correct_answer = None
        self.hint = None
        self.teaching_hint = None
        self.total_questions = 5
        self.current_question = 0
        self.is_easy_mode = False  # Flag for easier questions
        self.current_class = None  # Keep track of the current class
        self.incorrect_count = {'Add': 0, 'Sub': 0, 'Mul': 0, 'Div': 0}  # Incorrect counters
        self.threshold = 2  # Incorrect attempts before suggesting an easier question

        # UI Components
        self.question_label = tk.Label(root, text="Question will appear here.", font=('Arial', 14), bg='black', fg='white')
        self.question_label.pack(pady=20)

        self.progress_label = tk.Label(root, text="Progress: 0/5", font=('Arial', 12), bg='black', fg='white')
        self.progress_label.pack()

        # Center the Entry widget
        self.answer_entry = tk.Entry(root, font=('Arial', 14), bg='lightyellow', fg='black', width=15)
        self.answer_entry.pack(pady=20, padx=10, ipady=5)

        self.feedback_label = tk.Label(root, text="", font=('Arial', 12), bg='black', fg='white')
        self.feedback_label.pack(pady=10)

        # Hint Button with color customization
        self.hint_button = tk.Button(root, text="Show Hint", command=self.show_hint, 
                                      bg='lightblue', fg='black', font=('Arial', 12, 'bold'))
        self.hint_button.pack(pady=5)

        # Teaching Hint Button with color customization
        self.teaching_hint_button = tk.Button(root, text="Teaching Hint", command=self.show_teaching_hint, 
                                              bg='lightcoral', fg='black', font=('Arial', 12, 'bold'))
        self.teaching_hint_button.pack(pady=5)

        # Submit Answer Button with color customization
        self.submit_button = tk.Button(root, text="Submit Answer", command=self.check_answer, 
                                       bg='green', fg='white', font=('Arial', 12, 'bold'))
        self.submit_button.pack(pady=5)

        # Next Question Button with color customization (disabled state)
        self.next_button = tk.Button(root, text="Next Question", command=self.generate_question, 
                                     bg='gray', fg='white', font=('Arial', 12, 'bold'), state='disabled')
        self.next_button.pack(pady=5)

        self.generate_question()

    def generate_question(self, easy=False):
        """
        Generates a question for the user. Easy mode suggests simpler questions.
        """
        self.feedback_label.config(text="")
        self.answer_entry.delete(0, tk.END)
        self.submit_button.config(state='normal')
        self.next_button.config(state='disabled')

        if not easy:
            if self.current_question >= self.total_questions:
                self.reset_progress()
                return
            self.is_easy_mode = False
            operation_class = random.choice([self.onto.Add, self.onto.Sub, self.onto.Mul, self.onto.Div])
            self.current_class = operation_class.name
        else:
            self.is_easy_mode = True
            operation_class = self.onto.EasyQuestion.instances()

        operation_instance = random.choice(operation_class.instances() if not easy else operation_class)

        self.question_label.config(
            text=self.get_safe_property(operation_instance, "hasQuestion", "hasEasyQuestion", fallback="No question available.")
        )
        self.correct_answer = str(float(self.get_safe_property(operation_instance, "hasSolution", "hasEasySolution", fallback="0.0")))
        self.hint = self.get_safe_property(operation_instance, "hasHint", fallback="No hints available.")
        self.teaching_hint = self.get_safe_property(operation_instance, "hasTeachingHint", fallback="No teaching hints available.")

        if not self.is_easy_mode:
            self.current_question += 1
        self.update_progress()

    def check_answer(self):
        user_answer = self.answer_entry.get().strip()

        try:
            if float(user_answer) == float(self.correct_answer):
                self.feedback_label.config(text="🎉 Correct! Well done.", fg="green")
                self.submit_button.config(state='disabled')
                self.next_button.config(state='normal')
                self.incorrect_count[self.current_class] = 0  # Reset incorrect count
            else:
                self.feedback_label.config(text="😓 Incorrect. Try again!", fg="red")
                self.incorrect_count[self.current_class] += 1
                if self.incorrect_count[self.current_class] >= self.threshold:
                    messagebox.showinfo("Help", f"You're struggling with {self.current_class}. Here's an easier question.")
                    self.generate_question(easy=True)
        except ValueError:
            self.feedback_label.config(text="😓 Please enter a valid number.", fg="orange")

    def get_safe_property(self, instance, *properties, fallback=""):
        """
        Safely retrieves the first available property value from an ontology instance.
        """
        for prop in properties:
            if hasattr(instance, prop):
                value = getattr(instance, prop)
                if value and isinstance(value, list) and len(value) > 0:
                    return value[0]
        return fallback

    def show_hint(self):
        messagebox.showinfo("Hint", self.hint)

    def show_teaching_hint(self):
        messagebox.showinfo("Teaching Hint", self.teaching_hint)

    def reset_progress(self):
        self.current_question = 0
        messagebox.showinfo("Restart", "All questions completed! Restarting...")
        self.generate_question()

    def update_progress(self):
        self.progress_label.config(text=f"Progress: {self.current_question}/{self.total_questions}")

    def get_current_class(self):
        return self.current_class


# Run the ITS
if __name__ == "__main__":
    root = tk.Tk()
    app = BasicArithmeticITS(root)
    root.mainloop()
